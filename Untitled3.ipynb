{
  "nbformat": 4,
  "nbformat_minor": 0,
  "metadata": {
    "colab": {
      "provenance": []
    },
    "kernelspec": {
      "name": "python3",
      "display_name": "Python 3"
    },
    "language_info": {
      "name": "python"
    }
  },
  "cells": [
    {
      "cell_type": "markdown",
      "source": [
        "Exercise 3"
      ],
      "metadata": {
        "id": "VmH0qaOsoEdF"
      }
    },
    {
      "cell_type": "code",
      "source": [
        "# Room Area Calculator\n",
        "width  =30\n",
        "length =15\n",
        "area = width*length\n",
        "print(area, \"ft\")\n"
      ],
      "metadata": {
        "colab": {
          "base_uri": "https://localhost:8080/"
        },
        "id": "YKiQHhIUoxRy",
        "outputId": "d64d7539-bae4-4746-a866-cbcc5e517847"
      },
      "execution_count": null,
      "outputs": [
        {
          "output_type": "stream",
          "name": "stdout",
          "text": [
            "450 ft\n"
          ]
        }
      ]
    },
    {
      "cell_type": "markdown",
      "source": [
        "Exercise 4"
      ],
      "metadata": {
        "id": "PiMLwig4sZ6Z"
      }
    },
    {
      "cell_type": "code",
      "source": [
        "\n",
        "width= float(input(\"Enter width: \"))\n",
        "length= float(input(\"Enter length: \"))\n",
        "area= width*length\n",
        "print(area, \"square meters\")"
      ],
      "metadata": {
        "colab": {
          "base_uri": "https://localhost:8080/"
        },
        "id": "y6S8BPuQayXC",
        "outputId": "ae87bf6d-a628-4acf-da83-6135b3e7719b"
      },
      "execution_count": null,
      "outputs": [
        {
          "output_type": "stream",
          "name": "stdout",
          "text": [
            "Enter width: 10\n",
            "Enter length: 5\n",
            "50.0 square meters\n"
          ]
        }
      ]
    },
    {
      "cell_type": "markdown",
      "source": [
        "# Restaurant Bill Calculator"
      ],
      "metadata": {
        "id": "CILalh8jBQLK"
      }
    },
    {
      "cell_type": "markdown",
      "source": [
        "# Define constants"
      ],
      "metadata": {
        "id": "Z7CnhPCUBn7p"
      }
    },
    {
      "cell_type": "code",
      "source": [
        "TAX_RATE = 0.06\n",
        "TIP_PERCENT = 0.18\n",
        "meal_cost = 44.50\n",
        "tax_amount = meal_cost * TAX_RATE\n",
        "tip_amount = meal_cost * TIP_PERCENT\n",
        "total_cost = meal_cost + tax_amount + tip_amount\n",
        "print(f\"Meal cost: ${meal_cost:.2f}\")\n",
        "print(f\"Tax amount: ${tax_amount:.2f}\")\n",
        "print(f\"Tip amount: ${tip_amount:.2f}\")\n",
        "print(f\"Total cost: ${total_cost:.2f}\")"
      ],
      "metadata": {
        "colab": {
          "base_uri": "https://localhost:8080/"
        },
        "id": "p--pT-XjB1ww",
        "outputId": "5fafa405-88d4-46a5-bcbb-fa59df214f62"
      },
      "execution_count": null,
      "outputs": [
        {
          "output_type": "stream",
          "name": "stdout",
          "text": [
            "Meal cost: $44.50\n",
            "Tax amount: $2.67\n",
            "Tip amount: $8.01\n",
            "Total cost: $55.18\n"
          ]
        }
      ]
    },
    {
      "cell_type": "markdown",
      "source": [
        "# Bottle Deposit Refund Calculator"
      ],
      "metadata": {
        "id": "Ogd7Jwe0GXSc"
      }
    },
    {
      "cell_type": "markdown",
      "source": [
        "# Define the deposit amounts"
      ],
      "metadata": {
        "id": "gmsgdf2XGpUz"
      }
    },
    {
      "cell_type": "code",
      "source": [
        "SMALL_CONTAINER_DEPOSIT = 0.10\n",
        "LARGE_CONTAINER_DEPOSIT = 0.25\n",
        "small_bottles = int(input(\"Enter the number of small bottle holding 1 liter or less: \"))\n",
        "large_bottles = int(input(\"Enter the number of large bottles holding more than 1 liter: \"))\n",
        "small_bottles_refund = small_bottles * SMALL_CONTAINER_DELPOSIT\n",
        "large_bottles_refund = large_bottles * LARGE_CONTAINER_DEPOSIT\n",
        "total_cost = small_bottles_refund + large_bottles_refund\n",
        "print(f\"Refund for small bottles: ${small_bottles_refund:.2f}\")\n",
        "print(f\"Refund for large bottles: ${large_bottles_refund:.2f}\")\n",
        "print(f\"Total refund: ${total_cost:.2f}\")"
      ],
      "metadata": {
        "id": "afg0k43sGyz2"
      },
      "execution_count": null,
      "outputs": []
    }
  ]
}